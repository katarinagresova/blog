{
 "cells": [
  {
   "cell_type": "markdown",
   "metadata": {},
   "source": [
    "# \"Downloading datasets in Python like a pro using fastai's fastdownload\"\n",
    "> \"fastai and related projects are great resources but they might lack documentation, examples, and tips from the community. Therefore this is my small addition to fastai community.\"\n",
    "\n",
    "- toc: true\n",
    "- branch: master\n",
    "- badges: false\n",
    "- comments: true\n",
    "- categories: [fastai, python, ]\n",
    "- image: images/mac-minimal.jpg\n",
    "- hide: false\n",
    "- search_exclude: false"
   ]
  },
  {
   "cell_type": "code",
   "execution_count": 1,
   "metadata": {
    "vscode": {
     "languageId": "python"
    }
   },
   "outputs": [],
   "source": [
    "#hide\n",
    "\n",
    "%load_ext autoreload\n",
    "%autoreload 2"
   ]
  },
  {
   "cell_type": "markdown",
   "metadata": {},
   "source": [
    "![](my_icons/mac-minimal.jpg)"
   ]
  },
  {
   "cell_type": "markdown",
   "metadata": {},
   "source": [
    "## Introduction\n",
    "\n",
    "Being in a Deep Learning field, you most probably know Jeremy Howard and his `fastai` [[1]](#resources) and projects related to it. One of these related projects is `fastdownload` [[2]](#resources) that I found only recently (even tho it is out almost a year) and tried to use it. It was not without problems, but I found it useful and I decided to share my findings and enhancements. \n",
    "\n",
    "> If you have datasets or other archives that you want to make available to your users and ensure they always have the latest versions and that they are downloaded correctly, `fastdownload` can help.\n",
    "\n",
    "`fastdownload` can handle multiple URLs pointing at the same archive and ensure that users always get the latest version of the archive. Getting a dataset is as easy as calling the `FastDownload.get` method and passing the URL of the archive. The URL will be downloaded and extracted to the specified location and the path to the extracted file will be returned.\n",
    "\n",
    "For instance, `fastai` uses `fastdownload` to provide access to datasets for deep learning. `fastai` users can download and extract them with a single command, using the return value to access the files. The files are automatically placed in appropriate subdirectories of a `.fastai` folder in the user's home dir. If a dataset is updated, users are informed the next time they use the dataset, and the latest version is automatically downloaded and extracted for them."
   ]
  },
  {
   "cell_type": "markdown",
   "metadata": {},
   "source": [
    "## Basic example\n",
    "\n",
    "As described above, the most common usage for `fastdownload` is to download a dataset from the internet. Datasets are usually formatted as a bunch of files separated into directories based on the class of the data in a file. All of these class directories are then placed in a single dataset directory that is compressed. So usually we have an URL to the  compressed dataset and we want to do the following:\n",
    "\n",
    "- check if we already have the dataset, if it is up to date and not corrupted,\n",
    "- download the dataset, if needed,\n",
    "- extract the dataset, if needed,\n",
    "- have a path to the extracted dataset.\n",
    "\n",
    "With `fastdownload` we can do all of this in two lines (after installing a package and importing it)."
   ]
  },
  {
   "cell_type": "code",
   "execution_count": 2,
   "metadata": {
    "vscode": {
     "languageId": "python"
    }
   },
   "outputs": [],
   "source": [
    "!pip uninstall -y -q fastdownload\n",
    "!pip install -q fastdownload"
   ]
  },
  {
   "cell_type": "code",
   "execution_count": 3,
   "metadata": {
    "vscode": {
     "languageId": "python"
    }
   },
   "outputs": [
    {
     "data": {
      "text/plain": [
       "Path('/home/jovyan/.fastdownload/data/mnist_tiny')"
      ]
     },
     "execution_count": 3,
     "metadata": {},
     "output_type": "execute_result"
    }
   ],
   "source": [
    "import fastdownload\n",
    "from fastdownload import FastDownload\n",
    "\n",
    "d = FastDownload(module=fastdownload)\n",
    "path = d.get('https://s3.amazonaws.com/fast-ai-sample/mnist_tiny.tgz')\n",
    "path"
   ]
  },
  {
   "cell_type": "markdown",
   "metadata": {},
   "source": [
    "Download seems to be successful and we can also see that `path` is pointing to `mnist_tiny/` directory that is stored in `.fastdownload/data/` directory that is stored in my home directory.\n",
    "\n",
    "This is it, you now know how to download datasets in Python using `fastai`'s `fastdownload`. But if you are interested in more advanced usage, keep reading."
   ]
  },
  {
   "cell_type": "markdown",
   "metadata": {},
   "source": [
    "## Parametrization\n",
    "\n",
    "In Basic example we pretty much used default parameters for `fastdownload` but we can also parametrize it. When creating a `FastDownload` object we can specify four parameters: `base`, `archive`, `data` and `module`. First three parameters are connected with location where files will be downloaded and extracted. `base` is a path to parent directory where it all will live in. Archives are then saved to `{base}/{archive}`, and extracted to `{base}/{data}`. When no values are specified, default values are as follows:\n",
    "\n",
    "- `base = ~/.fastdownload`\n",
    "- `archive = archive`\n",
    "- `data = data`\n",
    "\n",
    "This is exactly matching with our `path` in Basic example.\n",
    "\n",
    "Last parameter is `module` that is useful when downloading datasets connected with some package. One part of downloading is a check if the dataset is not corrupted. To do so, we need to have access to true values of file size and hash. `fastdownload` is using file `download_checks.py` for this and it is expected to be located in the same directory as a module we specified using `module` parameter. Author of a package and datasets should provide this file.\n",
    "\n",
    "When we look back at the Basic example, we specified `module=fastdownload` which was pretty useless since `fastdownload` module contains no `download_checks.py` file. There is a small bug in the current distribution of `fastdownload` package that causes it to fail when `module` is not specified. Fix is already in `fastdownload`'s github but it is not released yet. Therefore we need to specify some `module` parameter for now even tho it is not really used."
   ]
  },
  {
   "cell_type": "markdown",
   "metadata": {},
   "source": [
    "## Enhancement 1: Working with a compressed files\n",
    "\n",
    "Without doubts, `fastdownload` is a good tool for downloading datasets. However, I stumbled upon a problem when I tried to work with a compressed file (not a compressed directory). This problem might not be apparent at first because first downloading and unpacking of a compressed file is without a problem."
   ]
  },
  {
   "cell_type": "code",
   "execution_count": 4,
   "metadata": {
    "vscode": {
     "languageId": "python"
    }
   },
   "outputs": [
    {
     "data": {
      "text/plain": [
       "Path('/home/jovyan/.fastdownload/data/cds.fa')"
      ]
     },
     "execution_count": 4,
     "metadata": {},
     "output_type": "execute_result"
    }
   ],
   "source": [
    "path = d.get('https://silkdb.bioinfotoolkits.net/__resource/Bombyx_mori/download/cds.fa.tar.gz')\n",
    "path"
   ]
  },
  {
   "cell_type": "markdown",
   "metadata": {},
   "source": [
    "Problem shows when removing file using `force=True` parameter in `d.get()` (which forces new download of file even it was downloaded before)."
   ]
  },
  {
   "cell_type": "code",
   "execution_count": 5,
   "metadata": {
    "vscode": {
     "languageId": "python"
    }
   },
   "outputs": [
    {
     "data": {
      "text/html": [
       "\n",
       "<style>\n",
       "    /* Turns off some styling */\n",
       "    progress {\n",
       "        /* gets rid of default border in Firefox and Opera. */\n",
       "        border: none;\n",
       "        /* Needs to be in here for Safari polyfill so background images work as expected. */\n",
       "        background-size: auto;\n",
       "    }\n",
       "    .progress-bar-interrupted, .progress-bar-interrupted::-webkit-progress-bar {\n",
       "        background: #F44336;\n",
       "    }\n",
       "</style>\n"
      ],
      "text/plain": [
       "<IPython.core.display.HTML object>"
      ]
     },
     "metadata": {},
     "output_type": "display_data"
    },
    {
     "data": {
      "text/html": [
       "\n",
       "    <div>\n",
       "      <progress value='5578752' class='' max='5577257' style='width:300px; height:20px; vertical-align: middle;'></progress>\n",
       "      100.03% [5578752/5577257 00:03<00:00]\n",
       "    </div>\n",
       "    "
      ],
      "text/plain": [
       "<IPython.core.display.HTML object>"
      ]
     },
     "metadata": {},
     "output_type": "display_data"
    },
    {
     "name": "stdout",
     "output_type": "stream",
     "text": [
      "[Errno 20] Not a directory: Path('/home/jovyan/.fastdownload/data/cds.fa')\n"
     ]
    }
   ],
   "source": [
    "try:\n",
    "    path = d.get('https://silkdb.bioinfotoolkits.net/__resource/Bombyx_mori/download/cds.fa.tar.gz', force=True)\n",
    "except Exception as e:\n",
    "    print(e)"
   ]
  },
  {
   "cell_type": "markdown",
   "metadata": {},
   "source": [
    "The file was downloaded but unpacking failed. More precisely, removing an old uncompressed file before unpacking a new one failed. `fastdownload` is expecting only directories as it is the most used format for datasets. I understand that downloading compressed files is not a primary use case for `fastdownload` but I would like to use it for it. Luckily, I was able to add support for compressed files into `fastdownload`. Enhancement lives in a fork of `fastdownload` on my github [[3]](#resources) for now but I will try to get it into `fastdownload`. It can be easily installed as a python package using the `pip` command."
   ]
  },
  {
   "cell_type": "code",
   "execution_count": 6,
   "metadata": {
    "vscode": {
     "languageId": "python"
    }
   },
   "outputs": [],
   "source": [
    "!pip uninstall -y -q fastdownload\n",
    "!pip install -q git+https://github.com/katarinagresova/fastdownload"
   ]
  },
  {
   "cell_type": "markdown",
   "metadata": {},
   "source": [
    "Now we need to import the newly installed `fastdownload` module and create a `FastDownload` object again.\n",
    "\n",
    "> Note: we don't have to specify `module` parameter here since we are installing a version with a fix already in it. However, if you would download a dataset where `download_checks.py` file is created, you should specify a `module` where it is located."
   ]
  },
  {
   "cell_type": "code",
   "execution_count": 7,
   "metadata": {
    "vscode": {
     "languageId": "python"
    }
   },
   "outputs": [
    {
     "data": {
      "text/html": [
       "\n",
       "<style>\n",
       "    /* Turns off some styling */\n",
       "    progress {\n",
       "        /* gets rid of default border in Firefox and Opera. */\n",
       "        border: none;\n",
       "        /* Needs to be in here for Safari polyfill so background images work as expected. */\n",
       "        background-size: auto;\n",
       "    }\n",
       "    .progress-bar-interrupted, .progress-bar-interrupted::-webkit-progress-bar {\n",
       "        background: #F44336;\n",
       "    }\n",
       "</style>\n"
      ],
      "text/plain": [
       "<IPython.core.display.HTML object>"
      ]
     },
     "metadata": {},
     "output_type": "display_data"
    },
    {
     "data": {
      "text/html": [
       "\n",
       "    <div>\n",
       "      <progress value='5578752' class='' max='5577257' style='width:300px; height:20px; vertical-align: middle;'></progress>\n",
       "      100.03% [5578752/5577257 00:03<00:00]\n",
       "    </div>\n",
       "    "
      ],
      "text/plain": [
       "<IPython.core.display.HTML object>"
      ]
     },
     "metadata": {},
     "output_type": "display_data"
    },
    {
     "data": {
      "text/plain": [
       "Path('/home/jovyan/.fastdownload/data/cds.fa')"
      ]
     },
     "execution_count": 7,
     "metadata": {},
     "output_type": "execute_result"
    }
   ],
   "source": [
    "from fastdownload import FastDownload\n",
    "\n",
    "d = FastDownload()\n",
    "path = d.get('https://silkdb.bioinfotoolkits.net/__resource/Bombyx_mori/download/cds.fa.tar.gz', force=True)\n",
    "path"
   ]
  },
  {
   "cell_type": "markdown",
   "metadata": {},
   "source": [
    "We can also verify that our `path` is really pointing to the extracted file and not a directory."
   ]
  },
  {
   "cell_type": "code",
   "execution_count": 8,
   "metadata": {
    "vscode": {
     "languageId": "python"
    }
   },
   "outputs": [
    {
     "name": "stdout",
     "output_type": "stream",
     "text": [
      "True\n"
     ]
    }
   ],
   "source": [
    "print(path.is_file())"
   ]
  },
  {
   "cell_type": "markdown",
   "metadata": {},
   "source": [
    "## Enhancement 2: Adding support for new compression formats\n",
    "\n",
    "While trying to use `fastdownload` I found another use case that was not supported - downloading a compressed file with a `.gz` extension."
   ]
  },
  {
   "cell_type": "code",
   "execution_count": 9,
   "metadata": {
    "vscode": {
     "languageId": "python"
    }
   },
   "outputs": [
    {
     "data": {
      "text/html": [
       "\n",
       "<style>\n",
       "    /* Turns off some styling */\n",
       "    progress {\n",
       "        /* gets rid of default border in Firefox and Opera. */\n",
       "        border: none;\n",
       "        /* Needs to be in here for Safari polyfill so background images work as expected. */\n",
       "        background-size: auto;\n",
       "    }\n",
       "    .progress-bar-interrupted, .progress-bar-interrupted::-webkit-progress-bar {\n",
       "        background: #F44336;\n",
       "    }\n",
       "</style>\n"
      ],
      "text/plain": [
       "<IPython.core.display.HTML object>"
      ]
     },
     "metadata": {},
     "output_type": "display_data"
    },
    {
     "data": {
      "text/html": [
       "\n",
       "    <div>\n",
       "      <progress value='5152768' class='' max='5152564' style='width:300px; height:20px; vertical-align: middle;'></progress>\n",
       "      100.00% [5152768/5152564 00:01<00:00]\n",
       "    </div>\n",
       "    "
      ],
      "text/plain": [
       "<IPython.core.display.HTML object>"
      ]
     },
     "metadata": {},
     "output_type": "display_data"
    },
    {
     "name": "stdout",
     "output_type": "stream",
     "text": [
      "Unknown archive format '/home/jovyan/.fastdownload/archive/dmelanogaster_external_feature__external_feature__main.txt.gz'\n"
     ]
    }
   ],
   "source": [
    "try:\n",
    "    path = d.get('http://ftp.ensembl.org/pub/release-106/mysql/regulation_mart_106/dmelanogaster_external_feature__external_feature__main.txt.gz', force=True)\n",
    "except Exception as e:\n",
    "    print(e)"
   ]
  },
  {
   "cell_type": "markdown",
   "metadata": {},
   "source": [
    "I dug a little deeper into `fastdownload` and found that it uses `shutil` module [[4]](#resources) for decompressing files. This module supports only some of compression formats and `.gz` is not one of them."
   ]
  },
  {
   "cell_type": "code",
   "execution_count": 10,
   "metadata": {
    "vscode": {
     "languageId": "python"
    }
   },
   "outputs": [
    {
     "data": {
      "text/plain": [
       "[('bztar', \"bzip2'ed tar-file\"),\n",
       " ('gztar', \"gzip'ed tar-file\"),\n",
       " ('tar', 'uncompressed tar file'),\n",
       " ('xztar', \"xz'ed tar-file\"),\n",
       " ('zip', 'ZIP file')]"
      ]
     },
     "execution_count": 10,
     "metadata": {},
     "output_type": "execute_result"
    }
   ],
   "source": [
    "import shutil\n",
    "\n",
    "shutil.get_archive_formats()"
   ]
  },
  {
   "cell_type": "markdown",
   "metadata": {},
   "source": [
    "However, we can add support for a new compression format by creating a decompression function and registering it in `shutil`. There is a native support for this in `shutil`."
   ]
  },
  {
   "cell_type": "code",
   "execution_count": 11,
   "metadata": {
    "vscode": {
     "languageId": "python"
    }
   },
   "outputs": [
    {
     "name": "stdout",
     "output_type": "stream",
     "text": [
      "Registers an archive format.\n",
      "\n",
      "    name is the name of the format. function is the callable that will be\n",
      "    used to create archives. If provided, extra_args is a sequence of\n",
      "    (name, value) tuples that will be passed as arguments to the callable.\n",
      "    description can be provided to describe the format, and will be returned\n",
      "    by the get_archive_formats() function.\n",
      "    \n"
     ]
    }
   ],
   "source": [
    "print(shutil.register_archive_format.__doc__)"
   ]
  },
  {
   "cell_type": "markdown",
   "metadata": {},
   "source": [
    "Thanks to the smart people at `stackoverflow` I was able to figure out how to do it. I adapted the code from `stackoverflow` [[5]](#resources) and I replaced problematic file name extraction with a `pathlib.Path` [[6]](#resources). We might register any compression format in this way."
   ]
  },
  {
   "cell_type": "code",
   "execution_count": 12,
   "metadata": {
    "vscode": {
     "languageId": "python"
    }
   },
   "outputs": [],
   "source": [
    "from pathlib import Path\n",
    "import gzip\n",
    "import shutil\n",
    "\n",
    "\n",
    "def gunzip_something(gzipped_file_name, work_dir):\n",
    "    \"\"\"gunzip the given gzipped fil\n",
    "\n",
    "    Args:\n",
    "        gzipped_file_name (str): path to the gzipped file\n",
    "        work_dir (str): path to the directory where the file will be unzipped\n",
    "    \"\"\"\n",
    "\n",
    "    filename = Path(gzipped_file_name).stem\n",
    "\n",
    "    with gzip.open(gzipped_file_name, 'rb') as f_in:\n",
    "        with open(Path(work_dir, filename), 'wb') as f_out:\n",
    "            shutil.copyfileobj(f_in, f_out)\n",
    "\n",
    "\n",
    "shutil.register_unpack_format(\n",
    "    name='gz',\n",
    "    extensions=['.gz'],\n",
    "    function=gunzip_something,\n",
    "    description='Gzipped file'\n",
    ")"
   ]
  },
  {
   "cell_type": "markdown",
   "metadata": {},
   "source": [
    "And now we can download also files with `.gz` extension."
   ]
  },
  {
   "cell_type": "code",
   "execution_count": 13,
   "metadata": {
    "vscode": {
     "languageId": "python"
    }
   },
   "outputs": [
    {
     "data": {
      "text/plain": [
       "Path('/home/jovyan/.fastdownload/data/dmelanogaster_external_feature__external_feature__main.txt')"
      ]
     },
     "execution_count": 13,
     "metadata": {},
     "output_type": "execute_result"
    }
   ],
   "source": [
    "path = d.get('http://ftp.ensembl.org/pub/release-106/mysql/regulation_mart_106/dmelanogaster_external_feature__external_feature__main.txt.gz')\n",
    "path"
   ]
  },
  {
   "cell_type": "markdown",
   "metadata": {},
   "source": [
    "## Conclusion\n",
    "\n",
    "`fastdownload` is a quite useful tool for managing datasets. If you like to use it also for managing any type of compressed files, use [my extended version](https://github.com/katarinagresova/fastdownload). You can also use it for any compression type by registering a decompression function in `shutil` as described above. \n",
    "\n",
    "Fast downloading!"
   ]
  },
  {
   "cell_type": "markdown",
   "metadata": {},
   "source": [
    "## Resources\n",
    "\n",
    "[1] https://www.fast.ai/  \n",
    "[2] https://fastdownload.fast.ai/  \n",
    "[3] https://github.com/katarinagresova  \n",
    "[4] https://docs.python.org/3/library/shutil.html  \n",
    "[5] https://stackoverflow.com/a/57923425  \n",
    "[6] https://docs.python.org/3/library/pathlib.html"
   ]
  }
 ],
 "metadata": {
  "interpreter": {
   "hash": "13304a70ff3155df81d51cc76952ebc2eb3abf17b6e42baedd1458f2992e58cb"
  },
  "kernelspec": {
   "display_name": "Python [conda env:tenv]",
   "language": "python",
   "name": "conda-env-tenv-py"
  },
  "orig_nbformat": 4
 },
 "nbformat": 4,
 "nbformat_minor": 2
}
