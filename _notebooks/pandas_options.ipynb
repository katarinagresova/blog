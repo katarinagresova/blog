{
 "cells": [
  {
   "cell_type": "markdown",
   "metadata": {},
   "source": [
    "I am working with `pandas` in `Jupyter` a lot and I came across a few tips and trick how to make my work more easier when exploring data. I am talking about pandas options that allows you to customize some aspects of its behavior - display-related options being very handy."
   ]
  },
  {
   "cell_type": "markdown",
   "metadata": {},
   "source": [
    "Two options that I set at the beginning of almost every notebook are `display.max_colwidth`, `display.max_columns` and `display.float_format`. Maximum number of characters in a column is set to `50` by default and usually it is not enough for me. When I have dataset with reasonable values, I set it to infinite maximum width by `pd.set_option('display.max_colwidth', None)`. But this is not good when some column has values much longer then rest of the column - there will be a lots of empty space in rest of the columns. By experimentation I choose value of `200` to be an optimal starting value for maximum column with. "
   ]
  },
  {
   "cell_type": "code",
   "execution_count": 1,
   "metadata": {},
   "outputs": [
    {
     "data": {
      "text/plain": [
       "50"
      ]
     },
     "execution_count": 1,
     "metadata": {},
     "output_type": "execute_result"
    }
   ],
   "source": [
    "import pandas as pd\n",
    "pd.get_option('display.max_colwidth')"
   ]
  },
  {
   "cell_type": "markdown",
   "metadata": {},
   "source": [
    "Pandas is also limiting number of columns that it will display to `20`. But when you are exploring your data you want to see all the columns. So I always set value to to infinite maximum columns by `pd.set_option(\"display.max_columns\", None)`."
   ]
  },
  {
   "cell_type": "code",
   "execution_count": 2,
   "metadata": {},
   "outputs": [
    {
     "data": {
      "text/plain": [
       "20"
      ]
     },
     "execution_count": 2,
     "metadata": {},
     "output_type": "execute_result"
    }
   ],
   "source": [
    "pd.get_option(\"display.max_columns\")"
   ]
  },
  {
   "cell_type": "markdown",
   "metadata": {},
   "source": [
    "Pandas is very cool and scientific and uses scientific notation for floats. It can be useful when working with very large or very small numbers, but for most cases it is hard to read and understand. We would rather use classic notation with decimal numbers and it can be set by `pd.set_option('display.float_format', lambda x: '%.3f' % x)`."
   ]
  },
  {
   "cell_type": "code",
   "execution_count": null,
   "metadata": {},
   "outputs": [],
   "source": [
    "# show longer strings in pandas DataFrame\n",
    "# value 200 is set here based on observing values in DataFrame\n",
    "pd.set_option('display.max_colwidth', 200)\n",
    "\n",
    "# show all columns in pandas DataFrame\n",
    "pd.set_option(\"display.max_columns\", None)\n",
    "\n",
    "# this line of code set the pandas display format so it will not use scientific notaion\n",
    "pd.set_option('display.float_format', lambda x: '%.3f' % x)"
   ]
  }
 ],
 "metadata": {
  "interpreter": {
   "hash": "baa840be147284f971d689b2ea744e693b43d59daf205dc3035dfc8217277f58"
  },
  "kernelspec": {
   "display_name": "Python 3.9.7 ('venv': venv)",
   "language": "python",
   "name": "python3"
  },
  "language_info": {
   "codemirror_mode": {
    "name": "ipython",
    "version": 3
   },
   "file_extension": ".py",
   "mimetype": "text/x-python",
   "name": "python",
   "nbconvert_exporter": "python",
   "pygments_lexer": "ipython3",
   "version": "3.9.7"
  },
  "orig_nbformat": 4
 },
 "nbformat": 4,
 "nbformat_minor": 2
}
